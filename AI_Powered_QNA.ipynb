{
  "nbformat": 4,
  "nbformat_minor": 0,
  "metadata": {
    "colab": {
      "provenance": [],
      "gpuType": "T4"
    },
    "kernelspec": {
      "name": "python3",
      "display_name": "Python 3"
    },
    "language_info": {
      "name": "python"
    },
    "accelerator": "GPU"
  },
  "cells": [
    {
      "cell_type": "code",
      "execution_count": null,
      "metadata": {
        "collapsed": true,
        "id": "qIYClrSue_Cl"
      },
      "outputs": [],
      "source": [
        "!pip install gradio transformers --quiet"
      ]
    },
    {
      "cell_type": "code",
      "source": [
        "import gradio as gr\n",
        "from transformers import pipeline\n"
      ],
      "metadata": {
        "id": "ja5_4dgEfVNM"
      },
      "execution_count": null,
      "outputs": []
    },
    {
      "cell_type": "code",
      "source": [
        "qa_pipeline = pipeline(\n",
        "    \"question-answering\",\n",
        "    model=\"distilbert/distilbert-base-cased-distilled-squad\",\n",
        "    framework=\"pt\"\n",
        ")"
      ],
      "metadata": {
        "id": "VOB4-uZafZ7o"
      },
      "execution_count": null,
      "outputs": []
    },
    {
      "cell_type": "code",
      "source": [
        "def answer_question(passage, question):\n",
        "    result = qa_pipeline(question=question, context=passage)\n",
        "    return f\"Answer: {result['answer']} (Confidence: {round(result['score'] * 100, 2)}%)\"\n"
      ],
      "metadata": {
        "id": "lvfy9fBpfcjz"
      },
      "execution_count": null,
      "outputs": []
    },
    {
      "cell_type": "code",
      "source": [
        "iface = gr.Interface(\n",
        "    fn=answer_question,\n",
        "    inputs=[\"text\", \"text\"],\n",
        "    outputs=\"text\",\n",
        "    title=\"🤖 AI-Powered Question Answering\",\n",
        "    description=\"Provide a passage and a question, and the AI will extract the most relevant answer.\"\n",
        ")"
      ],
      "metadata": {
        "id": "mvxQdMQNfenM"
      },
      "execution_count": null,
      "outputs": []
    },
    {
      "cell_type": "code",
      "source": [
        "iface.launch(share=True)"
      ],
      "metadata": {
        "id": "MgBevCJXfg7L"
      },
      "execution_count": null,
      "outputs": []
    }
  ]
}